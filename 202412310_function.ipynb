{
 "cells": [
  {
   "cell_type": "code",
   "execution_count": null,
   "metadata": {
    "colab": {
     "base_uri": "https://localhost:8080/"
    },
    "id": "8ExJ98vzDSak",
    "outputId": "2aa2ebab-4171-44d4-f2ae-f14567f04559"
   },
   "outputs": [
    {
     "name": "stdout",
     "output_type": "stream",
     "text": [
      "Emil\n",
      "Emil Refsnes\n",
      "Tobias\n",
      "Tobias Refsnes\n",
      "Linus\n",
      "Linus Refsnes\n"
     ]
    }
   ],
   "source": [
    "def my_function(fname):\n",
    "  print(fname)\n",
    "  print(fname + \" Refsnes\")\n",
    "  \n",
    "my_function(\"Emil\")\n",
    "my_function(\"Tobias\")\n",
    "my_function(\"Linus\")"
   ]
  },
  {
   "cell_type": "code",
   "execution_count": 5,
   "metadata": {
    "colab": {
     "base_uri": "https://localhost:8080/"
    },
    "id": "MPLgNPkfcPaH",
    "outputId": "f5978cdc-fe23-4da4-a577-252489be061f"
   },
   "outputs": [
    {
     "name": "stdout",
     "output_type": "stream",
     "text": [
      "15\n",
      "25\n",
      "45\n"
     ]
    }
   ],
   "source": [
    "def my_function(x):\n",
    "  return 5 * x\n",
    "\n",
    "print(my_function(3))\n",
    "print(my_function(5))\n",
    "print(my_function(9))"
   ]
  },
  {
   "cell_type": "code",
   "execution_count": 6,
   "metadata": {
    "colab": {
     "base_uri": "https://localhost:8080/"
    },
    "id": "V345OVmUcTHu",
    "outputId": "5e327bd1-2564-4897-f874-a05a14685e15"
   },
   "outputs": [
    {
     "name": "stdout",
     "output_type": "stream",
     "text": [
      "12\n"
     ]
    }
   ],
   "source": [
    "def f(x,y):\n",
    "  return x*y\n",
    "print(f(3,4))"
   ]
  },
  {
   "cell_type": "code",
   "execution_count": 7,
   "metadata": {
    "colab": {
     "base_uri": "https://localhost:8080/"
    },
    "id": "Nvox5_FpGalg",
    "outputId": "e295e9f2-3511-4c3f-c7ec-b1d183e61a2d"
   },
   "outputs": [
    {
     "name": "stdout",
     "output_type": "stream",
     "text": [
      "x: 10\n",
      "y: 50\n"
     ]
    }
   ],
   "source": [
    "def myFun(x,y=50):\n",
    "  print(\"x:\",x)\n",
    "  print(\"y:\",y)\n",
    "myFun(10)"
   ]
  },
  {
   "cell_type": "code",
   "execution_count": null,
   "metadata": {
    "colab": {
     "base_uri": "https://localhost:8080/"
    },
    "id": "QNCpQCq4dA7-",
    "outputId": "da2bed61-6bff-4911-f0bf-0fef268048fb"
   },
   "outputs": [
    {
     "name": "stdout",
     "output_type": "stream",
     "text": [
      "Name: Naveen\n",
      "Age: 29\n",
      "Name: Miki\n",
      "Age: 30\n"
     ]
    }
   ],
   "source": [
    "def printinfo(name,age):\n",
    "  \"This prints a passed info this function\"\n",
    "  print(\"Name:\", name)\n",
    "  print(\"Age:\", age)\n",
    "  return\n",
    "printinfo(\"Naveen\", 29)\n",
    "printinfo(name=\"Miki\", age=30)"
   ]
  },
  {
   "cell_type": "code",
   "execution_count": null,
   "metadata": {
    "colab": {
     "base_uri": "https://localhost:8080/"
    },
    "id": "d_RJw2GdeiSb",
    "outputId": "9303e4a8-c2f9-4d82-f026-e95626afb647"
   },
   "outputs": [
    {
     "name": "stdout",
     "output_type": "stream",
     "text": [
      "Name: Naveen\n",
      "Age: 29\n",
      "Name: Miki\n",
      "Age: 40\n"
     ]
    }
   ],
   "source": [
    "def printinfo(name,age):\n",
    "  \"This prints a passed info this function\"\n",
    "  print(\"Name:\", name)\n",
    "  print(\"Age:\", age)\n",
    "  return\n",
    "printinfo(\"Naveen\", 29)\n",
    "printinfo(age=40, name=\"Miki\")"
   ]
  },
  {
   "cell_type": "code",
   "execution_count": 12,
   "metadata": {
    "colab": {
     "base_uri": "https://localhost:8080/"
    },
    "id": "HiRRTzGie9fs",
    "outputId": "1641041d-caa9-4b28-f42b-abbb952f8706"
   },
   "outputs": [
    {
     "name": "stdout",
     "output_type": "stream",
     "text": [
      "my string\n"
     ]
    }
   ],
   "source": [
    "def printme(str):\n",
    "  \"This prints a passed string into this function\"\n",
    "  print(str)\n",
    "  return\n",
    "printme(\"my string\")"
   ]
  },
  {
   "cell_type": "code",
   "execution_count": null,
   "metadata": {
    "colab": {
     "base_uri": "https://localhost:8080/"
    },
    "id": "XO5BtWp2fbsS",
    "outputId": "18eb3758-68ed-4683-f968-e71ec4f33d72"
   },
   "outputs": [
    {
     "name": "stdout",
     "output_type": "stream",
     "text": [
      "10\n",
      "1\n"
     ]
    }
   ],
   "source": [
    "def add (*args):\n",
    "  s=0\n",
    "  for x in args:\n",
    "    s=s+x\n",
    "    return s\n",
    "result=add(10,20,30,40)\n",
    "print(result)\n",
    "result= add(1,2,3)\n",
    "print(result)"
   ]
  },
  {
   "cell_type": "code",
   "execution_count": null,
   "metadata": {
    "colab": {
     "base_uri": "https://localhost:8080/"
    },
    "id": "r7t5zax0gOox",
    "outputId": "5a3cf085-0382-413d-8378-e588d4463c91"
   },
   "outputs": [
    {
     "name": "stdout",
     "output_type": "stream",
     "text": [
      "45.0\n"
     ]
    }
   ],
   "source": [
    "def avg(first,*rest):\n",
    "  second=max(rest)\n",
    "  return(first+second)/2\n",
    "result=avg(40,30,50,25)\n",
    "print(result)"
   ]
  },
  {
   "cell_type": "code",
   "execution_count": 16,
   "metadata": {
    "colab": {
     "base_uri": "https://localhost:8080/"
    },
    "id": "4pLcBZi2gs98",
    "outputId": "dc011fd7-1640-4e88-f3c4-3bc72cefc09f"
   },
   "outputs": [
    {
     "name": "stdout",
     "output_type": "stream",
     "text": [
      "His last name is Refsnes\n"
     ]
    }
   ],
   "source": [
    "def my_function(**kid):\n",
    "  print(\"His last name is \" + kid[\"lname\"])\n",
    "my_function(fname = \"Tobias\", lname = \"Refsnes\")"
   ]
  },
  {
   "cell_type": "code",
   "execution_count": 18,
   "metadata": {
    "colab": {
     "base_uri": "https://localhost:8080/"
    },
    "id": "0X7CBoisgzTa",
    "outputId": "72f9b0fd-12d9-493c-ed0b-99ef80447576"
   },
   "outputs": [
    {
     "name": "stdout",
     "output_type": "stream",
     "text": [
      "26\n"
     ]
    }
   ],
   "source": [
    "def my_function(a,b,/,*,c,d):\n",
    "  print(a+b+c+d)\n",
    "my_function(5,6,c=7,d=8)"
   ]
  },
  {
   "cell_type": "code",
   "execution_count": null,
   "metadata": {
    "colab": {
     "base_uri": "https://localhost:8080/"
    },
    "id": "L4hoISv5hLjh",
    "outputId": "4cc96ae3-21e7-4941-b3a0-46931e10eaaa"
   },
   "outputs": [
    {
     "name": "stdout",
     "output_type": "stream",
     "text": [
      "Value is: 888\n",
      "Value is 0\n"
     ]
    }
   ],
   "source": [
    "def function1():\n",
    "  loc_var=888\n",
    "  print(\"Value is:\",loc_var)\n",
    "\n",
    "def function2():\n",
    "  loc_var = 0\n",
    "  print(\"Value is\", loc_var)\n",
    "\n",
    "function1()\n",
    "function2()"
   ]
  },
  {
   "cell_type": "code",
   "execution_count": null,
   "metadata": {
    "colab": {
     "base_uri": "https://localhost:8080/"
    },
    "id": "_F5aUpyGiFHW",
    "outputId": "c1d858a7-9455-4716-d1c3-8f77d59eb1ae"
   },
   "outputs": [
    {
     "name": "stdout",
     "output_type": "stream",
     "text": [
      "Value is: 5\n",
      "Value is 0\n",
      "Value is: 5\n"
     ]
    }
   ],
   "source": [
    "global_var=5\n",
    "def function1():\n",
    "  print(\"Value is:\",global_var)\n",
    "\n",
    "def function2():\n",
    "  global_var = 0\n",
    "  print(\"Value is\", global_var)\n",
    "def function3():\n",
    "  print(\"Value is:\",global_var)\n",
    "\n",
    "function1()\n",
    "function2()\n",
    "function3()"
   ]
  },
  {
   "cell_type": "code",
   "execution_count": 25,
   "metadata": {
    "colab": {
     "base_uri": "https://localhost:8080/"
    },
    "id": "4p8jEY-CG_xQ",
    "outputId": "845ae739-91c2-4eed-f285-ab79aec535a1"
   },
   "outputs": [
    {
     "name": "stdout",
     "output_type": "stream",
     "text": [
      "I'm a lumberjack, and I'm okay.\n",
      "I sleep all night and I work all day.\n"
     ]
    }
   ],
   "source": [
    "def print_lyrics():\n",
    "  print(\"I'm a lumberjack, and I'm okay.\")\n",
    "  print(\"I sleep all night and I work all day.\")\n",
    "print_lyrics()"
   ]
  },
  {
   "cell_type": "code",
   "execution_count": 34,
   "metadata": {
    "id": "Hk9wGs65Hjku"
   },
   "outputs": [],
   "source": [
    "def print_lyrics():\n",
    "  print(\"I'm a lumberjack, and I'm okay.\")\n",
    "  print(\"I sleep all night and I work all day.\")"
   ]
  },
  {
   "cell_type": "code",
   "execution_count": 36,
   "metadata": {
    "colab": {
     "base_uri": "https://localhost:8080/"
    },
    "id": "bLl7wIf5I4xL",
    "outputId": "f87f4fcc-5a0b-4316-9add-1c01c7278475"
   },
   "outputs": [
    {
     "name": "stdout",
     "output_type": "stream",
     "text": [
      "I'm a lumberjack, and I'm okay.\n",
      "I sleep all night and I work all day.\n",
      "I'm a lumberjack, and I'm okay.\n",
      "I sleep all night and I work all day.\n"
     ]
    }
   ],
   "source": [
    "def print_lyrics():\n",
    "  print(\"I'm a lumberjack, and I'm okay.\")\n",
    "  print(\"I sleep all night and I work all day.\")\n",
    "def repeat_lyrics():\n",
    "  print_lyrics()\n",
    "  print_lyrics()\n",
    "\n",
    "repeat_lyrics()"
   ]
  },
  {
   "cell_type": "code",
   "execution_count": 38,
   "metadata": {
    "colab": {
     "base_uri": "https://localhost:8080/"
    },
    "id": "EZ9BUMsZkdpK",
    "outputId": "88f462c7-9329-47bd-ed50-dc73ea3ee420"
   },
   "outputs": [
    {
     "name": "stdout",
     "output_type": "stream",
     "text": [
      "<function print_lyrics at 0x784e158ea4d0>\n",
      "<class 'function'>\n"
     ]
    }
   ],
   "source": [
    "def print_lyrics():\n",
    "  print(\"I'n a lumberjack, and I'm okay.\")\n",
    "  print(\"I sleep all night and I work all day.\")\n",
    "print(print_lyrics)\n",
    "print(type(print_lyrics))"
   ]
  },
  {
   "cell_type": "code",
   "execution_count": 39,
   "metadata": {
    "colab": {
     "base_uri": "https://localhost:8080/"
    },
    "id": "YUrcgPrTkzAY",
    "outputId": "90a75a18-1c53-43ba-b87a-f6454280ee0b"
   },
   "outputs": [
    {
     "name": "stdout",
     "output_type": "stream",
     "text": [
      "0.9807944337595832\n",
      "0.962039802195248\n",
      "0.6799809073812556\n",
      "0.1094370990835738\n",
      "0.710543475156946\n",
      "0.8167866090859679\n",
      "0.2306638349936273\n",
      "0.8071135853196144\n",
      "0.8814087004104599\n",
      "0.1934798757115873\n"
     ]
    }
   ],
   "source": [
    "import random\n",
    "for i in range(10):\n",
    "  x=random.random()\n",
    "  print(x)"
   ]
  },
  {
   "cell_type": "code",
   "execution_count": 40,
   "metadata": {
    "colab": {
     "base_uri": "https://localhost:8080/"
    },
    "id": "exTdC0Byk6y0",
    "outputId": "6eab9a9f-0737-45fc-dcf7-bcbc55b99c38"
   },
   "outputs": [
    {
     "name": "stdout",
     "output_type": "stream",
     "text": [
      "5\n"
     ]
    }
   ],
   "source": [
    "import random\n",
    "print(random.randint(5,10))"
   ]
  },
  {
   "cell_type": "code",
   "execution_count": 41,
   "metadata": {
    "colab": {
     "base_uri": "https://localhost:8080/"
    },
    "id": "8xYjVn1BlLCL",
    "outputId": "15860e56-4ed5-4608-8e48-7b924abb557f"
   },
   "outputs": [
    {
     "name": "stdout",
     "output_type": "stream",
     "text": [
      "[20, 11, 12, 13, 14, 15]\n"
     ]
    }
   ],
   "source": [
    "def myFun(x):\n",
    "  x[0]=20\n",
    "lst=[10,11,12,13,14,15]\n",
    "myFun(lst)\n",
    "print(lst)"
   ]
  },
  {
   "cell_type": "code",
   "execution_count": 43,
   "metadata": {
    "colab": {
     "base_uri": "https://localhost:8080/"
    },
    "id": "TryLZUk5lSEJ",
    "outputId": "9d7d1832-15cc-4124-f125-de049ca9a37f"
   },
   "outputs": [
    {
     "name": "stdout",
     "output_type": "stream",
     "text": [
      "Inside function: Welcome to woosong university\n",
      "Outside the function: University\n"
     ]
    }
   ],
   "source": [
    "string=\"University\"\n",
    "def tesr(string):\n",
    "  string=\"Welcome to woosong university\"\n",
    "  print(\"Inside function:\",string)\n",
    "tesr(string)\n",
    "print(\"Outside the function:\",string)"
   ]
  },
  {
   "cell_type": "code",
   "execution_count": 44,
   "metadata": {
    "colab": {
     "base_uri": "https://localhost:8080/"
    },
    "id": "Qw9f85_ZmGWA",
    "outputId": "3df75888-97af-4ae8-f7b0-5d33ce7c7e2d"
   },
   "outputs": [
    {
     "name": "stdout",
     "output_type": "stream",
     "text": [
      "x= 3\n",
      "y= 2\n"
     ]
    }
   ],
   "source": [
    "def swap(x,y):\n",
    "  temp=x\n",
    "  x=y\n",
    "  y=temp\n",
    "  print(\"x=\",x)\n",
    "  print(\"y=\",y)\n",
    "x=2\n",
    "y=3\n",
    "swap(x,y)"
   ]
  },
  {
   "cell_type": "code",
   "execution_count": 45,
   "metadata": {
    "colab": {
     "base_uri": "https://localhost:8080/"
    },
    "id": "mHsX5DXumXDz",
    "outputId": "99f40050-cc7b-48a3-8d16-fe7d2c644d9e"
   },
   "outputs": [
    {
     "name": "stdout",
     "output_type": "stream",
     "text": [
      "5 *4 *3 *2 *factorical of 5= 120\n"
     ]
    }
   ],
   "source": [
    "def factorical(n):\n",
    "  if n==1 or n==0:\n",
    "    return 1\n",
    "  else:\n",
    "    print(n,'*', end='')\n",
    "    return n*factorical(n-1)\n",
    "print('factorical of 5=',factorical(5))"
   ]
  },
  {
   "cell_type": "code",
   "execution_count": null,
   "metadata": {
    "id": "GyEKoCjrJ4Eq"
   },
   "outputs": [],
   "source": [
    "def gmean(a,b):\n",
    "  c=(a*b)/2\n",
    "  return c\n",
    "  print(gmean(4,5))\n",
    "  print(gmean(7,5))"
   ]
  },
  {
   "cell_type": "code",
   "execution_count": null,
   "metadata": {
    "colab": {
     "base_uri": "https://localhost:8080/"
    },
    "id": "xHwBagkMLk4t",
    "outputId": "cb287bc8-d967-454c-b640-e0b493103f30"
   },
   "outputs": [
    {
     "name": "stdout",
     "output_type": "stream",
     "text": [
      "b is greater than a\n",
      "10.0\n",
      "a is equal to b\n",
      "12.5\n",
      "a is greater than b\n",
      "17.5\n"
     ]
    }
   ],
   "source": [
    "def gmean(a,b):\n",
    "  c=a*b/2\n",
    "  if a>b:\n",
    "    print(\"a is greater than b\")\n",
    "  elif a==b:\n",
    "    print(\"a is equal to b\")\n",
    "  else:\n",
    "    print(\"b is greater than a\")\n",
    "  print(c)\n",
    "gmean(4,5)\n",
    "gmean(5,5)\n",
    "gmean(7,5)"
   ]
  },
  {
   "cell_type": "code",
   "execution_count": null,
   "metadata": {
    "colab": {
     "base_uri": "https://localhost:8080/"
    },
    "id": "0jR7p900_QAN",
    "outputId": "63b2ec14-cb59-4138-b70a-b91523be6179"
   },
   "outputs": [
    {
     "name": "stdout",
     "output_type": "stream",
     "text": [
      "10\n",
      "50\n"
     ]
    }
   ],
   "source": [
    "def myFun(x,y=50):\n",
    "  print(x)\n",
    "  print(y)\n",
    "myFun(10)"
   ]
  },
  {
   "cell_type": "code",
   "execution_count": null,
   "metadata": {
    "id": "ODSqLnxm_i5l"
   },
   "outputs": [],
   "source": [
    "def add(num1, num2):\n",
    "  print(f\"num1={num1} and num2={num2}\")\n",
    "  Addition=num1+num2\n",
    "  return Addition\n",
    "  res= ass(2,4)\n",
    "  print(res)"
   ]
  },
  {
   "cell_type": "code",
   "execution_count": null,
   "metadata": {
    "colab": {
     "base_uri": "https://localhost:8080/"
    },
    "id": "W6ZW49htAg4p",
    "outputId": "402b62c2-5354-42c4-a2a1-7b33c92bba77"
   },
   "outputs": [
    {
     "name": "stdout",
     "output_type": "stream",
     "text": [
      "Name: Naveen\n",
      "Age: 29\n",
      "Name: Miki\n",
      "Age: 30\n"
     ]
    }
   ],
   "source": [
    "def printinfo(name,age):\n",
    "  print(\"Name:\", name)\n",
    "  print(\"Age:\", age)\n",
    "  return\n",
    "printinfo(\"Naveen\", 29)\n",
    "printinfo(age=30, name=\"Miki\")"
   ]
  },
  {
   "cell_type": "code",
   "execution_count": null,
   "metadata": {
    "colab": {
     "base_uri": "https://localhost:8080/"
    },
    "id": "o8NsAya_BbpU",
    "outputId": "89a8c2e0-5e27-494e-fcb6-90e6d0605b02"
   },
   "outputs": [
    {
     "name": "stdout",
     "output_type": "stream",
     "text": [
      "10\n"
     ]
    }
   ],
   "source": [
    "def add(*args):\n",
    "  s=0\n",
    "  for x in args:\n",
    "    s=s+x\n",
    "    return s\n",
    "result=add(10,20,30,40)\n",
    "print(result)"
   ]
  },
  {
   "cell_type": "code",
   "execution_count": null,
   "metadata": {
    "colab": {
     "base_uri": "https://localhost:8080/"
    },
    "id": "oWTKQhOYCXfn",
    "outputId": "28859002-3d7e-4a9f-90ab-f37010d32501"
   },
   "outputs": [
    {
     "name": "stdout",
     "output_type": "stream",
     "text": [
      "45.0\n"
     ]
    }
   ],
   "source": [
    "def avg(first,*rest):\n",
    "  second=max(rest)\n",
    "  return(first+second)/2\n",
    "result=avg(40,30,50,25)\n",
    "print(result)"
   ]
  },
  {
   "cell_type": "code",
   "execution_count": null,
   "metadata": {
    "colab": {
     "base_uri": "https://localhost:8080/"
    },
    "id": "V5NzDM3-D3EO",
    "outputId": "146d2e10-fecb-4a56-d307-959ed19af6b1"
   },
   "outputs": [
    {
     "name": "stdout",
     "output_type": "stream",
     "text": [
      "Hello\n",
      "Welcome\n",
      "to\n",
      "Woosong\n"
     ]
    }
   ],
   "source": [
    "def myFun(*argv):\n",
    "  for arg in argv:\n",
    "    print(arg)\n",
    "myFun(\"Hello\", \"Welcome\", \"to\", \"Woosong\")"
   ]
  },
  {
   "cell_type": "code",
   "execution_count": null,
   "metadata": {
    "colab": {
     "base_uri": "https://localhost:8080/"
    },
    "id": "3-Ev63VaE1De",
    "outputId": "1575fb8b-1689-4d87-9d0c-d9f9ab2c6c26"
   },
   "outputs": [
    {
     "name": "stdout",
     "output_type": "stream",
     "text": [
      "26\n"
     ]
    }
   ],
   "source": [
    "def my_function(a,b,/,*,c,d):\n",
    "  print(a+b+c+d)\n",
    "my_function(5,6,c=7,d=8)"
   ]
  },
  {
   "cell_type": "code",
   "execution_count": null,
   "metadata": {
    "colab": {
     "base_uri": "https://localhost:8080/"
    },
    "id": "3dhSt8P7GKki",
    "outputId": "feaba33a-8af7-447a-84ad-71113878b965"
   },
   "outputs": [
    {
     "name": "stdout",
     "output_type": "stream",
     "text": [
      "I'm a lumber jack\n",
      "I'm okay\n",
      "I'm a lumber jack\n",
      "I'm okay\n",
      "I'm a lumber jack\n",
      "I'm okay\n",
      "I'm a lumber jack\n",
      "I'm okay\n",
      "I'm a lumber jack\n",
      "I'm okay\n",
      "I'm a lumber jack\n",
      "I'm okay\n"
     ]
    }
   ],
   "source": [
    "def print_lyrics():\n",
    "  print(\"I'm a lumber jack\")\n",
    "  print(\"I'm okay\")\n",
    "def repeat_lyrics():\n",
    "  print_lyrics()\n",
    "  print_lyrics()\n",
    "repeat_lyrics()\n",
    "\n",
    "def repeat_lyrics2():\n",
    "  repeat_lyrics()\n",
    "  repeat_lyrics()\n",
    "repeat_lyrics2()"
   ]
  }
 ],
 "metadata": {
  "colab": {
   "provenance": []
  },
  "kernelspec": {
   "display_name": "Python 3",
   "name": "python3"
  },
  "language_info": {
   "codemirror_mode": {
    "name": "ipython",
    "version": 3
   },
   "file_extension": ".py",
   "mimetype": "text/x-python",
   "name": "python",
   "nbconvert_exporter": "python",
   "pygments_lexer": "ipython3",
   "version": "3.12.6"
  }
 },
 "nbformat": 4,
 "nbformat_minor": 0
}
